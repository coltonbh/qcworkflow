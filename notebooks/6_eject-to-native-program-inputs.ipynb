{
 "cells": [
  {
   "cell_type": "markdown",
   "id": "5ccfa4f3-5251-4e80-90b2-e8cfce5bbd75",
   "metadata": {},
   "source": [
    "# Eject to Native Program Inputs\n",
    "\n",
    "After running `scripts/6_compute.py` analyze your results here!"
   ]
  },
  {
   "cell_type": "markdown",
   "id": "1af5f671-bd39-4f26-8f82-bafcafd961d6",
   "metadata": {},
   "source": [
    "The last notebook showed you how to eject from built-in `qcio` visualizations when your data grew too large for out-of-the-box analysis. `scripts/6_compute.py` shows you how to eject from standardized `qcop` calculations and work directly with the native file inputs/outputs for QC programs when you need calculations done that aren't yet standardized. This means this analysis framework and `qcop` are unconstrained in the types of calculations they can perform. You can always eject from standardized calculations to the full suite of available methods in a QC program and extract the data you need from the complete set of returned files.\n",
    "\n",
    "Here we show how to use tools from `qcio` to still analyze data generated from unsupported calculations."
   ]
  },
  {
   "cell_type": "code",
   "execution_count": 1,
   "id": "9a90b389-20bd-4da6-a0a5-4852e95e1e78",
   "metadata": {},
   "outputs": [],
   "source": [
    "import numpy as np\n",
    "from pathlib import Path\n",
    "\n",
    "from qcio import Structure, view, ProgramOutput, align, rmsd, constants"
   ]
  },
  {
   "cell_type": "code",
   "execution_count": 2,
   "id": "e8f34e1f-c998-43e1-87a3-8a5c4a51c635",
   "metadata": {},
   "outputs": [],
   "source": [
    "# Constants\n",
    "DATA_DIR = Path(\"../data\")\n",
    "STRUCT_DIR = DATA_DIR / \"structures\"\n",
    "CALC_DIR = DATA_DIR / \"calcs\""
   ]
  },
  {
   "cell_type": "markdown",
   "id": "d0d2f9eb-12e2-4473-bf79-634b703fe964",
   "metadata": {},
   "source": [
    "## Open Native Results Inspect Them\n",
    "\n",
    "While we just did a typical energy calculation for simplicity, one could do any native calculation using the native input data for any QC (or arbitrary) program."
   ]
  },
  {
   "cell_type": "code",
   "execution_count": 16,
   "id": "02b8701f-5632-4a60-b233-9c6cf048be54",
   "metadata": {},
   "outputs": [],
   "source": [
    "prog_output = ProgramOutput.open(CALC_DIR / \"terachem-native-output.json\")"
   ]
  },
  {
   "cell_type": "markdown",
   "id": "36aa7a51-c7cd-4414-83bf-eb9fbc0a4a80",
   "metadata": {},
   "source": [
    "### Look at the Input Files Used and Command Line Args Passed to TeraChem"
   ]
  },
  {
   "cell_type": "code",
   "execution_count": 17,
   "id": "e5403e71-f903-426f-932e-7243680a34af",
   "metadata": {},
   "outputs": [
    {
     "data": {
      "text/plain": [
       "dict_keys(['caff.xyz', 'tc.in'])"
      ]
     },
     "execution_count": 17,
     "metadata": {},
     "output_type": "execute_result"
    }
   ],
   "source": [
    "prog_output.input_data.files.keys()"
   ]
  },
  {
   "cell_type": "code",
   "execution_count": 18,
   "id": "f2f2252a-f933-41f3-bb65-df973f55e042",
   "metadata": {},
   "outputs": [
    {
     "data": {
      "text/plain": [
       "['tc.in']"
      ]
     },
     "execution_count": 18,
     "metadata": {},
     "output_type": "execute_result"
    }
   ],
   "source": [
    "prog_output.input_data.cmdline_args"
   ]
  },
  {
   "cell_type": "code",
   "execution_count": 19,
   "id": "08b6795c-9b47-4576-a5d6-f564ae69fc75",
   "metadata": {},
   "outputs": [
    {
     "name": "stdout",
     "output_type": "stream",
     "text": [
      "run                   energy\n",
      "coordinates           caff.xyz\n",
      "charge                0\n",
      "spinmult              1\n",
      "basis                 6-31g\n",
      "method                b3lyp\n",
      "purify                no\n",
      "\n"
     ]
    }
   ],
   "source": [
    "print(prog_output.input_data.files['tc.in'])"
   ]
  },
  {
   "cell_type": "markdown",
   "id": "455a1747-11c4-4403-adaf-bb81bd425ac2",
   "metadata": {},
   "source": [
    "#### Structures can still be loaded up into `qcio` for visualization"
   ]
  },
  {
   "cell_type": "code",
   "execution_count": 20,
   "id": "037c38a1-1346-47cf-9ffc-2b09da0f7e4e",
   "metadata": {},
   "outputs": [
    {
     "data": {
      "text/html": [
       "<div style=\"display: flex; flex-wrap: wrap; justify-content: center;\"><div id=\"3dmolviewer_17417457232626555\"  style=\"position: relative; width: 600px; height: 450px;\">\n",
       "        <p id=\"3dmolwarning_17417457232626555\" style=\"background-color:#ffcccc;color:black\">3Dmol.js failed to load for some reason.  Please check your browser console for error messages.<br></p>\n",
       "        </div>\n",
       "<script>\n",
       "\n",
       "var loadScriptAsync = function(uri){\n",
       "  return new Promise((resolve, reject) => {\n",
       "    //this is to ignore the existence of requirejs amd\n",
       "    var savedexports, savedmodule;\n",
       "    if (typeof exports !== 'undefined') savedexports = exports;\n",
       "    else exports = {}\n",
       "    if (typeof module !== 'undefined') savedmodule = module;\n",
       "    else module = {}\n",
       "\n",
       "    var tag = document.createElement('script');\n",
       "    tag.src = uri;\n",
       "    tag.async = true;\n",
       "    tag.onload = () => {\n",
       "        exports = savedexports;\n",
       "        module = savedmodule;\n",
       "        resolve();\n",
       "    };\n",
       "  var firstScriptTag = document.getElementsByTagName('script')[0];\n",
       "  firstScriptTag.parentNode.insertBefore(tag, firstScriptTag);\n",
       "});\n",
       "};\n",
       "\n",
       "if(typeof $3Dmolpromise === 'undefined') {\n",
       "$3Dmolpromise = null;\n",
       "  $3Dmolpromise = loadScriptAsync('https://cdnjs.cloudflare.com/ajax/libs/3Dmol/2.4.2/3Dmol-min.js');\n",
       "}\n",
       "\n",
       "var viewer_17417457232626555 = null;\n",
       "var warn = document.getElementById(\"3dmolwarning_17417457232626555\");\n",
       "if(warn) {\n",
       "    warn.parentNode.removeChild(warn);\n",
       "}\n",
       "$3Dmolpromise.then(function() {\n",
       "viewer_17417457232626555 = $3Dmol.createViewer(document.getElementById(\"3dmolviewer_17417457232626555\"),{backgroundColor:\"white\"});\n",
       "viewer_17417457232626555.zoomTo();\n",
       "\tviewer_17417457232626555.addModel(\"24\\nqcio_charge=0 qcio_multiplicity=1 0 1 IUPAC 1,3,7-trimethylpurine-2,6-dione\\nO  0.24645007391500001 2.62745769388400019 0.00012658646900000\\nO  -3.07688813153299989 -0.63899883005100000 0.00062852471200000\\nN  -0.87629936647800000 -1.36952457169100006 0.00050048701600000\\nN  2.25014559874400000 0.27553195633799998 0.00018686009500000\\nN  -1.40874523699300003 0.96799320936400002 0.00048862688900000\\nN  1.52872990422300004 -1.86853674116500024 0.00011373767200000\\nC  0.85561340352600002 0.31320421737800003 0.00058135488800000\\nC  0.45275132366499998 -1.01317241606300001 0.00043320655400000\\nC  -0.05854328063900000 1.41089606086000008 0.00040579448700000\\nC  -1.85785242859899991 -0.37169814770900000 0.00056187961400000\\nC  2.59624921258100017 -1.05040070773100003 -0.00008328860400000\\nC  -1.27186080777499999 -2.78527004754500007 0.00050965061100000\\nC  3.15050481161099993 1.43209297099900001 0.00025051575700000\\nC  -2.47016318984299987 1.99211569671500000 0.00040963599600000\\nH  3.62220811396199993 -1.37938967656300004 -0.00034086600800000\\nH  -0.87463296533599999 -3.28274199963499980 -0.88786200373600010\\nH  -2.35951379705799980 -2.82059946534700012 0.00069765780600000\\nH  -0.87432074327499998 -3.28279995123200008 0.88870776936899998\\nH  4.17998556911100039 1.06980277183599992 -0.00221376193000000\\nH  2.97275691852299984 2.04759641785200008 -0.88342125123500004\\nH  2.97619247611799986 2.04504892645800007 0.88641306580599999\\nH  -1.98118800434900000 2.96417647431400022 0.00215229779600000\\nH  -3.09926592700400017 1.87528909736899996 0.88537222169800001\\nH  -3.09711732707700005 1.87762550555199970 -0.88642151732600005\\n\",\"xyz\");\n",
       "\tviewer_17417457232626555.addLabel(\" \",{\"position\": {\"x\": 300.0, \"y\": 0, \"z\": 0}, \"alignment\": \"topCenter\", \"fontSize\": 24, \"backgroundOpacity\": 0, \"fontColor\": \"black\", \"useScreen\": true});\n",
       "\tviewer_17417457232626555.addLabel(\" \",{\"position\": {\"x\": 300.0, \"y\": 450, \"z\": 0}, \"alignment\": \"bottomCenter\", \"fontSize\": 20, \"backgroundOpacity\": 0, \"fontColor\": \"black\", \"useScreen\": true});\n",
       "\tviewer_17417457232626555.setStyle({\"stick\": {}, \"sphere\": {\"scale\": 0.3}});\n",
       "\tviewer_17417457232626555.zoomTo();\n",
       "viewer_17417457232626555.render();\n",
       "});\n",
       "</script></div>"
      ],
      "text/plain": [
       "<IPython.core.display.HTML object>"
      ]
     },
     "metadata": {},
     "output_type": "display_data"
    }
   ],
   "source": [
    "caff = Structure.from_xyz(prog_output.input_data.files['caff.xyz'])\n",
    "view.view(caff)"
   ]
  },
  {
   "cell_type": "markdown",
   "id": "340b0ad1-3b74-4903-b043-40d4c73f3fbb",
   "metadata": {},
   "source": [
    "### Inpsect Output Files Returned\n",
    "\n",
    "This is the complete output TeraChem writes to a directory for a typical calculation. \n",
    "\n",
    "Note that `scripts/6_compute.py` also saved this data in its typical TeraChem output directory layout to `data/terachem-native-output`."
   ]
  },
  {
   "cell_type": "code",
   "execution_count": 21,
   "id": "a3659d5b-d3a9-4aae-8fbc-402a45611ac7",
   "metadata": {},
   "outputs": [
    {
     "data": {
      "text/plain": [
       "dict_keys(['scr.caff/results.dat', 'scr.caff/caff.geometry', 'scr.caff/c0', 'scr.caff/charge_mull.xls', 'scr.caff/xyz.xyz', 'scr.caff/caff.basis', 'scr.caff/mullpop', 'scr.caff/caff.molden'])"
      ]
     },
     "execution_count": 21,
     "metadata": {},
     "output_type": "execute_result"
    }
   ],
   "source": [
    "prog_output.results.files.keys()"
   ]
  },
  {
   "cell_type": "code",
   "execution_count": 22,
   "id": "db4f770a-a3d9-4981-81e6-be69186fca77",
   "metadata": {},
   "outputs": [
    {
     "name": "stdout",
     "output_type": "stream",
     "text": [
      "1 O\t-0.460958\n",
      "2 O\t-0.453147\n",
      "3 N\t-0.677043\n",
      "4 N\t-0.675341\n",
      "5 N\t-0.672561\n",
      "6 N\t-0.403499\n",
      "7 C\t0.329024\n",
      "8 C\t0.325534\n",
      "9 C\t0.567371\n",
      "10 C\t0.730668\n",
      "11 C\t0.268741\n",
      "12 C\t-0.237741\n",
      "13 C\t-0.227674\n",
      "14 C\t-0.233651\n",
      "15 H\t0.179945\n",
      "16 H\t0.174501\n",
      "17 H\t0.199685\n",
      "18 H\t0.174497\n",
      "19 H\t0.155937\n",
      "20 H\t0.195393\n",
      "21 H\t0.195234\n",
      "22 H\t0.194314\n",
      "23 H\t0.175423\n",
      "24 H\t0.175348\n",
      "\n"
     ]
    }
   ],
   "source": [
    "print(prog_output.results.files['scr.caff/charge_mull.xls'])"
   ]
  },
  {
   "cell_type": "markdown",
   "id": "0602c635-65bc-463c-b746-c4e949614b83",
   "metadata": {},
   "source": [
    "### stdout is always available and can be worked with to view various bits of relevant data"
   ]
  },
  {
   "cell_type": "code",
   "execution_count": 15,
   "id": "fa05b950-64fe-49a8-afd8-4cab9246da0c",
   "metadata": {},
   "outputs": [
    {
     "name": "stdout",
     "output_type": "stream",
     "text": [
      "| Startfile from command line: tc.in\n",
      "\n",
      "\n",
      "|       ***********************************************************\n",
      "|       *                 TeraChem v1.9-2025.03-dev               *\n",
      "|       *                   Development Version                   *\n",
      "|       *           Chemistry at the Speed of Graphics!           *\n",
      "|       ***********************************************************\n",
      "|       * This program may only be used in connection with        *\n",
      "|       * a valid license from PetaChem, LLC. Use of this program *\n",
      "|       * or results thereof indicates acceptance of all terms    *\n",
      "|       * and conditions stated in the license and that a valid   *\n",
      "|       * license agreement between the user and PetaChem, LLC    *\n",
      "|       * exists. PetaChem, LLC does not warrant the correctness  *\n",
      "|       * of results or their suitability for any purpose.        *\n",
      "|       * Please email bugs, suggestions, and comments to         *\n",
      "|       *                  help@petachem.com                      *\n",
      "|       *                                                         *\n",
      "|       ***********************************************************\n",
      "\n",
      "\n",
      "|       ***********************************************************\n",
      "|       *  Compiled by root         Wed Mar  5 06:47:42 PM PST 2025  *\n",
      "|       *  Supported architecture SMs: 52 61 70 80 90             *\n",
      "|       *  Build cuda_12.2.r12.2/compiler.33053471_0              *\n",
      "|       *  Git Version: 0fe15afa140ce458414fd8d35e48d406b4e6c95b  *\n",
      "|       ***********************************************************\n",
      "\n",
      "\n",
      "| Job started   Tue Mar 11 19:07:15 2025\n",
      "| On fire-11-01 (available memory: 357784 MB)\n",
      "\n",
      "| ######################################### RUNTIME INFO ##########################################\n",
      "| terachem  tc.in \n",
      "\n",
      "|  NVRM version: NVIDIA UNIX x86_64 Kernel Module  525.89.02  Wed Feb  1 23:23:25 UTC 2023\n",
      "|  GCC version:  gcc version 11.4.0 (Ubuntu 11.4.0-1ubuntu1~22.04) \n",
      "\n",
      "|  \tlinux-vdso.so.1 (0x00007ffedabac000)\n",
      "|  \tlibcurl.so.4 => /lib/x86_64-linux-gnu/libcurl.so.4 (0x00007f8f49425000)\n",
      "|  \tlibz.so.1 => /lib/x86_64-linux-gnu/libz.so.1 (0x00007f8f49409000)\n",
      "|  \tlibimf.so => /global/software/TeraChem/2025.03-intel-2023.2.0-CUDA-12.2.1/lib/libimf.so (0x00007f8f4901f000)\n",
      "|  \tlibm.so.6 => /lib/x86_64-linux-gnu/libm.so.6 (0x00007f8f48f36000)\n",
      "|  \tlibmpi.so.12 => /global/software/TeraChem/2025.03-intel-2023.2.0-CUDA-12.2.1/lib/libmpi.so.12 (0x00007f8f47400000)\n",
      "|  \tlibdftbplus.so => /global/software/TeraChem/2025.03-intel-2023.2.0-CUDA-12.2.1/lib/libdftbplus.so (0x00007f8f470a8000)\n",
      "|  \tlibfsockets.so => /global/software/TeraChem/2025.03-intel-2023.2.0-CUDA-12.2.1/lib/libfsockets.so (0x00007f8f48f30000)\n",
      "|  \tlibxmlf90.so => /global/software/TeraChem/2025.03-intel-2023.2.0-CUDA-12.2.1/lib/libxmlf90.so (0x00007f8f48f05000)\n",
      "|  \tlibthcbox.so.1 => /global/software/TeraChem/2025.03-intel-2023.2.0-CUDA-12.2.1/lib/libthcbox.so.1 (0x00007f8f4528b000)\n",
      "|  \tlibOpenMM.so => /global/software/TeraChem/2025.03-intel-2023.2.0-CUDA-12.2.1/lib/libOpenMM.so (0x00007f8f44e31000)\n",
      "|  \tlibFlexiBLE.so => /global/software/TeraChem/2025.03-intel-2023.2.0-CUDA-12.2.1/lib/libFlexiBLE.so (0x00007f8f48ef0000)\n",
      "|  \tlibnvToolsExt.so.1 => /global/software/TeraChem/2025.03-intel-2023.2.0-CUDA-12.2.1/lib/libnvToolsExt.so.1 (0x00007f8f44c00000)\n",
      "|  \tlibgpubox.so.1 => /global/software/TeraChem/2025.03-intel-2023.2.0-CUDA-12.2.1/lib/libgpubox.so.1 (0x00007f8f48ee5000)\n",
      "|  \tlibcpubox.so.1 => /global/software/TeraChem/2025.03-intel-2023.2.0-CUDA-12.2.1/lib/libcpubox.so.1 (0x00007f8f48edf000)\n",
      "|  \tlibtensorbox.so.1 => /global/software/TeraChem/2025.03-intel-2023.2.0-CUDA-12.2.1/lib/libtensorbox.so.1 (0x00007f8f44e15000)\n",
      "|  \tlibiobox.so.1 => /global/software/TeraChem/2025.03-intel-2023.2.0-CUDA-12.2.1/lib/libiobox.so.1 (0x00007f8f48ed3000)\n",
      "|  \tlibintbox.so.1 => /global/software/TeraChem/2025.03-intel-2023.2.0-CUDA-12.2.1/lib/libintbox.so.1 (0x00007f8eccde4000)\n",
      "|  \tlibatmx2cbox.so.1 => /global/software/TeraChem/2025.03-intel-2023.2.0-CUDA-12.2.1/lib/libatmx2cbox.so.1 (0x00007f8eccd23000)\n",
      "|  \tlibperiodicbox.so.1 => /global/software/TeraChem/2025.03-intel-2023.2.0-CUDA-12.2.1/lib/libperiodicbox.so.1 (0x00007f8eb1e9c000)\n",
      "|  \tlibsqmbox.so.1 => /global/software/TeraChem/2025.03-intel-2023.2.0-CUDA-12.2.1/lib/libsqmbox.so.1 (0x00007f8eb1af0000)\n",
      "|  \tlibgridbox.so.1 => /global/software/TeraChem/2025.03-intel-2023.2.0-CUDA-12.2.1/lib/libgridbox.so.1 (0x00007f8eaf726000)\n",
      "|  \tlibdftbox.so.1 => /global/software/TeraChem/2025.03-intel-2023.2.0-CUDA-12.2.1/lib/libdftbox.so.1 (0x00007f8eaf626000)\n",
      "|  \tlibcibox.so.1 => /global/software/TeraChem/2025.03-intel-2023.2.0-CUDA-12.2.1/lib/libcibox.so.1 (0x00007f8eaefd7000)\n",
      "|  \tlibccbox.so.1 => /global/software/TeraChem/2025.03-intel-2023.2.0-CUDA-12.2.1/lib/libccbox.so.1 (0x00007f8eaeb46000)\n",
      "|  \tlibsimbox.so.1 => /global/software/TeraChem/2025.03-intel-2023.2.0-CUDA-12.2.1/lib/libsimbox.so.1 (0x00007f8eaeb1e000)\n",
      "|  \tliboptbox.so.1 => /global/software/TeraChem/2025.03-intel-2023.2.0-CUDA-12.2.1/lib/liboptbox.so.1 (0x00007f8eaeae9000)\n",
      "|  \tlibprotobuf.so.25 => /global/software/TeraChem/2025.03-intel-2023.2.0-CUDA-12.2.1/lib/libprotobuf.so.25 (0x00007f8eae816000)\n",
      "|  \tlibcommbox.so.1 => /global/software/TeraChem/2025.03-intel-2023.2.0-CUDA-12.2.1/lib/libcommbox.so.1 (0x00007f8eae7b5000)\n",
      "|  \tlibssl.so.3 => /lib/x86_64-linux-gnu/libssl.so.3 (0x00007f8eae711000)\n",
      "|  \tlibcrypto.so.3 => /lib/x86_64-linux-gnu/libcrypto.so.3 (0x00007f8eae2ce000)\n",
      "|  \tlibcuda.so.1 => /lib/x86_64-linux-gnu/libcuda.so.1 (0x00007f8eac5ee000)\n",
      "|  \tlibcudart.so.12 => /global/software/TeraChem/2025.03-intel-2023.2.0-CUDA-12.2.1/lib/libcudart.so.12 (0x00007f8eac200000)\n",
      "|  \tlibcublas.so.12 => /global/software/TeraChem/2025.03-intel-2023.2.0-CUDA-12.2.1/lib/libcublas.so.12 (0x00007f8ea5a00000)\n",
      "|  \tlibcufft.so.11 => /global/software/TeraChem/2025.03-intel-2023.2.0-CUDA-12.2.1/lib/libcufft.so.11 (0x00007f8e9ac00000)\n",
      "|  \tlibcusparse.so.12 => /global/software/TeraChem/2025.03-intel-2023.2.0-CUDA-12.2.1/lib/libcusparse.so.12 (0x00007f8e8ae00000)\n",
      "|  \tlibcusolver.so.11 => /global/software/TeraChem/2025.03-intel-2023.2.0-CUDA-12.2.1/lib/libcusolver.so.11 (0x00007f8e83c00000)\n",
      "|  \tlibcublasLt.so.12 => /global/software/TeraChem/2025.03-intel-2023.2.0-CUDA-12.2.1/lib/libcublasLt.so.12 (0x00007f8e61400000)\n",
      "|  \tlibsvml.so => /global/software/TeraChem/2025.03-intel-2023.2.0-CUDA-12.2.1/lib/libsvml.so (0x00007f8e5fdd1000)\n",
      "|  \tlibirng.so => /global/software/TeraChem/2025.03-intel-2023.2.0-CUDA-12.2.1/lib/libirng.so (0x00007f8e5fa00000)\n",
      "|  \tlibstdc++.so.6 => /lib/x86_64-linux-gnu/libstdc++.so.6 (0x00007f8e5f7d4000)\n",
      "|  \tlibiomp5.so => /global/software/TeraChem/2025.03-intel-2023.2.0-CUDA-12.2.1/lib/libiomp5.so (0x00007f8e5f200000)\n",
      "|  \tlibcilkrts.so.5 => /global/software/TeraChem/2025.03-intel-2023.2.0-CUDA-12.2.1/lib/libcilkrts.so.5 (0x00007f8e5ee00000)\n",
      "|  \tlibgcc_s.so.1 => /lib/x86_64-linux-gnu/libgcc_s.so.1 (0x00007f8eac5ce000)\n",
      "|  \tlibintlc.so.5 => /global/software/TeraChem/2025.03-intel-2023.2.0-CUDA-12.2.1/lib/libintlc.so.5 (0x00007f8eac556000)\n",
      "|  \tlibc.so.6 => /lib/x86_64-linux-gnu/libc.so.6 (0x00007f8e5ebd7000)\n",
      "|  \t/lib64/ld-linux-x86-64.so.2 (0x00007f8f494db000)\n",
      "|  \tlibnghttp2.so.14 => /lib/x86_64-linux-gnu/libnghttp2.so.14 (0x00007f8eac52c000)\n",
      "|  \tlibidn2.so.0 => /lib/x86_64-linux-gnu/libidn2.so.0 (0x00007f8eac50b000)\n",
      "|  \tlibrtmp.so.1 => /lib/x86_64-linux-gnu/librtmp.so.1 (0x00007f8eac4ec000)\n",
      "|  \tlibssh.so.4 => /lib/x86_64-linux-gnu/libssh.so.4 (0x00007f8ea5993000)\n",
      "|  \tlibpsl.so.5 => /lib/x86_64-linux-gnu/libpsl.so.5 (0x00007f8eac4d8000)\n",
      "|  \tlibgssapi_krb5.so.2 => /lib/x86_64-linux-gnu/libgssapi_krb5.so.2 (0x00007f8ea593f000)\n",
      "|  \tlibldap-2.5.so.0 => /lib/x86_64-linux-gnu/libldap-2.5.so.0 (0x00007f8e9aba1000)\n",
      "|  \tliblber-2.5.so.0 => /lib/x86_64-linux-gnu/liblber-2.5.so.0 (0x00007f8eac4c7000)\n",
      "|  \tlibzstd.so.1 => /lib/x86_64-linux-gnu/libzstd.so.1 (0x00007f8e8ad31000)\n",
      "|  \tlibbrotlidec.so.1 => /lib/x86_64-linux-gnu/libbrotlidec.so.1 (0x00007f8eac4b7000)\n",
      "|  \tlibrt.so.1 => /lib/x86_64-linux-gnu/librt.so.1 (0x00007f8eac4b2000)\n",
      "|  \tlibdl.so.2 => /lib/x86_64-linux-gnu/libdl.so.2 (0x00007f8eac4ad000)\n",
      "|  \tlibifport.so.5 => /global/software/TeraChem/2025.03-intel-2023.2.0-CUDA-12.2.1/lib/libifport.so.5 (0x00007f8eac1d6000)\n",
      "|  \tlibifcoremt.so.5 => /global/software/TeraChem/2025.03-intel-2023.2.0-CUDA-12.2.1/lib/libifcoremt.so.5 (0x00007f8e5f65a000)\n",
      "|  \tlibpthread.so.0 => /lib/x86_64-linux-gnu/libpthread.so.0 (0x00007f8eac1d1000)\n",
      "|  \tlibnvJitLink.so.12 => /global/software/TeraChem/2025.03-intel-2023.2.0-CUDA-12.2.1/lib/libnvJitLink.so.12 (0x00007f8e5ba00000)\n",
      "|  \tlibunistring.so.2 => /lib/x86_64-linux-gnu/libunistring.so.2 (0x00007f8e5f056000)\n",
      "|  \tlibgnutls.so.30 => /lib/x86_64-linux-gnu/libgnutls.so.30 (0x00007f8e5b815000)\n",
      "|  \tlibhogweed.so.6 => /lib/x86_64-linux-gnu/libhogweed.so.6 (0x00007f8e8ace9000)\n",
      "|  \tlibnettle.so.8 => /lib/x86_64-linux-gnu/libnettle.so.8 (0x00007f8e8aca3000)\n",
      "|  \tlibgmp.so.10 => /lib/x86_64-linux-gnu/libgmp.so.10 (0x00007f8e83b7e000)\n",
      "|  \tlibkrb5.so.3 => /lib/x86_64-linux-gnu/libkrb5.so.3 (0x00007f8e5b74a000)\n",
      "|  \tlibk5crypto.so.3 => /lib/x86_64-linux-gnu/libk5crypto.so.3 (0x00007f8e8ac74000)\n",
      "|  \tlibcom_err.so.2 => /lib/x86_64-linux-gnu/libcom_err.so.2 (0x00007f8eac1c9000)\n",
      "|  \tlibkrb5support.so.0 => /lib/x86_64-linux-gnu/libkrb5support.so.0 (0x00007f8ea5931000)\n",
      "|  \tlibsasl2.so.2 => /lib/x86_64-linux-gnu/libsasl2.so.2 (0x00007f8e8ac59000)\n",
      "|  \tlibbrotlicommon.so.1 => /lib/x86_64-linux-gnu/libbrotlicommon.so.1 (0x00007f8e83b5b000)\n",
      "|  \tlibp11-kit.so.0 => /lib/x86_64-linux-gnu/libp11-kit.so.0 (0x00007f8e5b60f000)\n",
      "|  \tlibtasn1.so.6 => /lib/x86_64-linux-gnu/libtasn1.so.6 (0x00007f8e83b43000)\n",
      "|  \tlibkeyutils.so.1 => /lib/x86_64-linux-gnu/libkeyutils.so.1 (0x00007f8eac1c0000)\n",
      "|  \tlibresolv.so.2 => /lib/x86_64-linux-gnu/libresolv.so.2 (0x00007f8e8ac43000)\n",
      "|  \tlibffi.so.8 => /lib/x86_64-linux-gnu/libffi.so.8 (0x00007f8e83b36000)\n",
      "| #################################################################################################\n",
      "\n",
      "| Checking Amazon Cloud instance ID...   Not found\n",
      "| Cannot find license.dat file /global/software/TeraChem/2025.03-intel-2023.2.0-CUDA-12.2.1/license.dat\n",
      "\n",
      "\n",
      "| TRYING THE NETWORK LICENSE...\n",
      "| Connecting to license server '54.208.252.40' port '8877'...\n",
      "| Connected!\n",
      "| Checking your license...\n",
      "\n",
      "| **************************************************************\n",
      "|  Greetings, Martinez Group! You have 1000 licenses in total\n",
      "|  IN USE: 18\n",
      "|  AVAILABLE: 982\n",
      "| **************************************************************\n",
      "\n",
      "-----------------------------------\n",
      "Processed Input file:\n",
      "                      run energy\n",
      "              coordinates caff.xyz\n",
      "                   charge 0\n",
      "                 spinmult 1\n",
      "                    basis 6-31g\n",
      "                   method b3lyp\n",
      "                   purify no\n",
      "-----------------------------------\n",
      "Jobname: caff\n",
      "Scratch data will be generated\n",
      "Scratch directory: ./scr.caff\n",
      "| Random number seed: 1521497140\n",
      "\n",
      "XYZ coordinates caff.xyz\n",
      "Molden File Output: ./scr.caff/caff.molden\n",
      "Using basis set: 6-31g\n",
      "dmrgstart not found\n",
      "Spin multiplicity: 1\n",
      "DIIS will use up to 10 vectors.\n",
      "Condition number limit for the DIIS overlap matrix is            0\n",
      "WF convergence threshold: 3.00e-05\n",
      "Using DIIS algorithm to converge WF\n",
      "Maximum number of SCF iterations: 100\n",
      "Incremental fock with rebuild every 8 iterations\n",
      "Will switch to conventional Fock if diffuse functions are detected\n",
      "X-matrix tolerance: 1.00e-04\n",
      "PRECISION: DYNAMIC\n",
      "TeraChem will select linear algebra engine\n",
      "Density matrix guess purification turned off\n",
      "DFT Functional requested: b3lyp\n",
      "Method: B3LYP \n",
      "  Hartree-Fock exact exchange:          0.20 \n",
      "  Slater exchange functional:           0.80 \n",
      "  Becke 1988 exchange functional:       0.72 \n",
      "  Lee-Yang-Parr correlation functional: 0.81 \n",
      "  VWN(I) correlation functional:        0.19 \n",
      "Wavefunction: RESTRICTED\n",
      "DFT grid type: 1\n",
      "Using dynamic DFT grids.\n",
      "Initial guess generated by maximum overlap\n",
      "\n",
      "********************************************\n",
      "***** SINGLE POINT ENERGY CALCULATIONS *****\n",
      "********************************************\n",
      "Starting TensorBox...\n",
      "| TeraChem will select linear algebra engine\n",
      "| Using cuSolver for matrix diagonalization\n",
      "\n",
      "| using 1 out of 1 CUDA devices\n",
      "|   Device 0: NVIDIA GeForce GTX 970,  4036MB, CC 5.2 -- CPU THREAD 0\n",
      "| -------------------------------------------------------------------\n",
      "| CPU Memory Available: 48365.88 MegaWords \n",
      "| GPU Memory Available: 248.61 MegaWords \n",
      "| Maximum recommended basis set size: 5100 basis functions\n",
      "|  (limited by GPU memory)\n",
      "| -------------------------------------------------------------------\n",
      "| Initialize GPUBox with 128 MW of memory\n",
      "\n",
      "\n",
      "Basis set:       6-31g\n",
      "Total atoms:     24\n",
      "Total charge:    0\n",
      "Total electrons: 102 (51-alpha, 51-beta)\n",
      "Number electrons modeled by ECPs: 0\n",
      "Total orbitals:  146\n",
      "Total AO shells: 90 (62 S-shells; 28 P-shells; 0 D-shells; 0 F-shells; 0 G-shells)\n",
      "Spin multiplicity: 1\n",
      "Nuclear repulsion energy (QM atoms): 921.914561396828 a.u.\n",
      "\n",
      "| Total AOs: 146    Total MOs: 146\n",
      "Setting up the DFT grid...\n",
      "| time to set the grid = 0.01 s\n",
      "DFT grid points: 23578 (982 points/atom)\n",
      "Setting up the DFT grid...\n",
      "| time to set the grid = 0.03 s\n",
      "DFT grid points: 65995 (2749 points/atom)\n",
      "\n",
      "                      *** Start SCF Iterations ***\n",
      "\n",
      " Iter     DIIS Error       Energy change      Electrons        XC Energy           Energy        Time(s)\n",
      "----------------------------------------------------------------------------------------------------------\n",
      "| Skip purify step\n",
      "| THRESPDP set to 1.00e+00\n",
      "|                 >>> SWITCHING TO GRID 1 <<<\n",
      "|    1     0.4353969407    -676.1211823653   102.0000097632   -71.8676427118    -676.1211823653     0.32  \n",
      "|                 >>> SWITCHING TO GRID 0 <<<\n",
      "|    2     0.9908085392      +4.3670791554   101.9966688033   -76.1539821239    -671.7541032099     0.23  \n",
      "|    3     0.3863724288      -6.8143330319   101.9974010702   -75.5974979064    -678.5684362418     0.24  \n",
      "|    4     0.0628351672      -1.5412968499   101.9970518463   -74.3025325569    -680.1097330917     0.23  \n",
      "|    5     0.1102019468      +0.0093870985   101.9969916611   -74.4640976055    -680.1003459932     0.23  \n",
      "|    6     0.0270722345      -0.0476019388   101.9971169860   -74.4647161803    -680.1479479320     0.22  \n",
      "|    7     0.0070158634      -0.0028483318   101.9970929530   -74.4586968300    -680.1507962638     0.22  \n",
      "|                 >>> SWITCHING TO GRID 1 <<<\n",
      "|    8     0.0020933187      -0.0021362799   102.0001859935   -74.4570001582    -680.1529325437     0.32  \n",
      "| THRESPDP set to 3.56e-03\n",
      "|    9     0.0008364100      +0.0000137355   102.0001877872   -74.4579123302    -680.1529188082     0.55  \n",
      "|   10     0.0001989662      -0.0000056297   102.0001876222   -74.4590446821    -680.1529244378     0.48  \n",
      "|   11     0.0001919779      -0.0000004429   102.0001876820   -74.4591379510    -680.1529248808     0.53  \n",
      "|   12     0.0000456573      +0.0000001064   102.0001876146   -74.4590009973    -680.1529247744     0.54  \n",
      "|   13     0.0000190739      -0.0000002725   102.0001876349   -74.4589793795    -680.1529250469     0.54  \n",
      "----------------------------------------------------------------------------------------------------------\n",
      "FINAL ENERGY: -680.1529250469 a.u.\n",
      "HOMO-LUMO GAP: 4.991 eV\n",
      "CENTER OF MASS: {-0.031520, 0.021288, 0.000361} ANGS\n",
      "DIPOLE MOMENT: {4.024303, -0.234238, 0.000172} (|D| = 4.031114) DEBYE\n",
      "Writing out molden info\n",
      "\n",
      "Running Mulliken population analysis...\n",
      "\n",
      "| Total processing time: 4.73 sec \n",
      "\n",
      "| Job finished: Tue Mar 11 19:07:27 2025\n",
      "\n",
      "\n"
     ]
    }
   ],
   "source": [
    "print(prog_output.stdout)"
   ]
  },
  {
   "cell_type": "code",
   "execution_count": null,
   "id": "fef30db5-d428-402e-bd9d-4947a6b30c69",
   "metadata": {},
   "outputs": [],
   "source": []
  }
 ],
 "metadata": {
  "kernelspec": {
   "display_name": "Python 3 (ipykernel)",
   "language": "python",
   "name": "python3"
  },
  "language_info": {
   "codemirror_mode": {
    "name": "ipython",
    "version": 3
   },
   "file_extension": ".py",
   "mimetype": "text/x-python",
   "name": "python",
   "nbconvert_exporter": "python",
   "pygments_lexer": "ipython3",
   "version": "3.13.1"
  }
 },
 "nbformat": 4,
 "nbformat_minor": 5
}
